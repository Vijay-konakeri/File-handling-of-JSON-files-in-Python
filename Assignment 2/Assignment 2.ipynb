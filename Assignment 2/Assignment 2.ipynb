{
 "cells": [
  {
   "cell_type": "markdown",
   "id": "fbeb895e-a231-4d68-8599-477dd6e493db",
   "metadata": {},
   "source": [
    "👉 1. Create a class named ‘Dog’. It should have a constructor which accepts its name, age and coat color. You must perform the following operations:\n",
    "\n",
    "🔴 a. It should have a function ‘description()’ which prints the name and age of the dog.\n",
    "🔴 b. It should have a function ‘get_info()’ which prints the coat color of the dog.\n",
    "🔴 c. Create child classes ‘JackRussellTerrier’ and ‘Bulldog’ which is inherited from the class ‘Dog’. It should have at least two methods of its own.\n",
    "🔴 d. Create objects and implement the above functionalities."
   ]
  },
  {
   "cell_type": "code",
   "execution_count": 1,
   "id": "5020e697-45b0-440a-9dc5-7490005b52da",
   "metadata": {},
   "outputs": [
    {
     "name": "stdout",
     "output_type": "stream",
     "text": [
      "Fido is 3 years old.\n",
      "Fido's coat color is brown.\n",
      "Buddy is 5 years old.\n",
      "Buddy's coat color is white.\n",
      "Buddy barks!\n",
      "Buddy digs a hole.\n",
      "Milo is 7 years old.\n",
      "Milo's coat color is black.\n",
      "Milo snores loudly.\n",
      "Milo drools.\n"
     ]
    }
   ],
   "source": [
    "class Dog:\n",
    "    def __init__(self, name, age, coat_color):\n",
    "        self.name = name\n",
    "        self.age = age\n",
    "        self.coat_color = coat_color\n",
    "\n",
    "    def description(self):\n",
    "        print(f\"{self.name} is {self.age} years old.\")\n",
    "\n",
    "    def get_info(self):\n",
    "        print(f\"{self.name}'s coat color is {self.coat_color}.\")\n",
    "\n",
    "class JackRussellTerrier(Dog):\n",
    "    def __init__(self, name, age, coat_color):\n",
    "        super().__init__(name, age, coat_color)\n",
    "\n",
    "    def bark(self):\n",
    "        print(f\"{self.name} barks!\")\n",
    "\n",
    "    def dig(self):\n",
    "        print(f\"{self.name} digs a hole.\")\n",
    "\n",
    "class Bulldog(Dog):\n",
    "    def __init__(self, name, age, coat_color):\n",
    "        super().__init__(name, age, coat_color)\n",
    "\n",
    "    def snore(self):\n",
    "        print(f\"{self.name} snores loudly.\")\n",
    "\n",
    "    def drool(self):\n",
    "        print(f\"{self.name} drools.\")\n",
    "\n",
    "dog1 = Dog(\"Fido\", 3, \"brown\")\n",
    "dog1.description()\n",
    "dog1.get_info()\n",
    "\n",
    "dog2 = JackRussellTerrier(\"Buddy\", 5, \"white\")\n",
    "dog2.description()\n",
    "dog2.get_info()\n",
    "dog2.bark()\n",
    "dog2.dig()\n",
    "\n",
    "dog3 = Bulldog(\"Milo\", 7, \"black\")\n",
    "dog3.description()\n",
    "dog3.get_info()\n",
    "dog3.snore()\n",
    "dog3.drool()\n"
   ]
  }
 ],
 "metadata": {
  "kernelspec": {
   "display_name": "Python 3 (ipykernel)",
   "language": "python",
   "name": "python3"
  },
  "language_info": {
   "codemirror_mode": {
    "name": "ipython",
    "version": 3
   },
   "file_extension": ".py",
   "mimetype": "text/x-python",
   "name": "python",
   "nbconvert_exporter": "python",
   "pygments_lexer": "ipython3",
   "version": "3.11.1"
  }
 },
 "nbformat": 4,
 "nbformat_minor": 5
}
