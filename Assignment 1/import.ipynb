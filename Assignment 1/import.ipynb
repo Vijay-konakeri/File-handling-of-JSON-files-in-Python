{
 "cells": [
  {
   "cell_type": "markdown",
   "id": "843fe1a3-00e9-4c89-9580-dc4d5e128f65",
   "metadata": {},
   "source": [
    "👉 1. Create a JSON file (employee.json) containing employee information of minimum 5 employees. Each employee information consists of Name, DOB, Height, City, State. Write a python program that reads this information from the JSON file and saves the information into a list of objects of Employee class. Finally print the list of the Employee objects."
   ]
  },
  {
   "cell_type": "code",
   "execution_count": 1,
   "id": "bea7d477-adea-4912-a608-204a160fed6a",
   "metadata": {},
   "outputs": [
    {
     "name": "stdout",
     "output_type": "stream",
     "text": [
      "Name: John, DOB: 01-01-1990, Height: 6 ft, City: New York, State: NY\n",
      "Name: Jane, DOB: 02-02-1995, Height: 5 ft 6 in, City: Los Angeles, State: CA\n",
      "Name: Bob, DOB: 03-03-2000, Height: 5 ft 10 in, City: Chicago, State: IL\n",
      "Name: Emily, DOB: 04-04-1985, Height: 5 ft 2 in, City: Houston, State: TX\n",
      "Name: Michael, DOB: 05-05-1980, Height: 6 ft 2 in, City: Phoenix, State: AZ\n"
     ]
    }
   ],
   "source": [
    "import json\n",
    "\n",
    "class Employee:\n",
    "    def __init__(self, name, dob, height, city, state):\n",
    "        self.name = name\n",
    "        self.dob = dob\n",
    "        self.height = height\n",
    "        self.city = city\n",
    "        self.state = state\n",
    "\n",
    "    def __str__(self):\n",
    "        return f\"Name: {self.name}, DOB: {self.dob}, Height: {self.height}, City: {self.city}, State: {self.state}\"\n",
    "\n",
    "# Read the JSON file\n",
    "with open(\"employee.json\", \"r\") as file:\n",
    "    data = json.load(file)\n",
    "\n",
    "# Create a list to store the Employee objects\n",
    "employees = []\n",
    "\n",
    "# Iterate through the employee data and create Employee objects\n",
    "for employee in data:\n",
    "    name = employee[\"Name\"]\n",
    "    dob = employee[\"DOB\"]\n",
    "    height = employee[\"Height\"]\n",
    "    city = employee[\"City\"]\n",
    "    state = employee[\"State\"]\n",
    "    employees.append(Employee(name, dob, height, city, state))\n",
    "\n",
    "# Print the list of Employee objects\n",
    "for employee in employees:\n",
    "    print(employee)\n"
   ]
  }
 ],
 "metadata": {
  "kernelspec": {
   "display_name": "Python 3 (ipykernel)",
   "language": "python",
   "name": "python3"
  },
  "language_info": {
   "codemirror_mode": {
    "name": "ipython",
    "version": 3
   },
   "file_extension": ".py",
   "mimetype": "text/x-python",
   "name": "python",
   "nbconvert_exporter": "python",
   "pygments_lexer": "ipython3",
   "version": "3.11.1"
  }
 },
 "nbformat": 4,
 "nbformat_minor": 5
}
